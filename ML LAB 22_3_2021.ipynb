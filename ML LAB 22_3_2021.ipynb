{
 "cells": [
  {
   "cell_type": "code",
   "execution_count": 1,
   "metadata": {},
   "outputs": [],
   "source": [
    "import pandas as pd"
   ]
  },
  {
   "cell_type": "code",
   "execution_count": 3,
   "metadata": {},
   "outputs": [],
   "source": [
    "mydata = pd.read_csv(\"C:\\\\Users\\\\asus\\\\Downloads\\\\StudentsPerformance.csv\")"
   ]
  },
  {
   "cell_type": "code",
   "execution_count": 4,
   "metadata": {},
   "outputs": [
    {
     "name": "stdout",
     "output_type": "stream",
     "text": [
      "     gender race/ethnicity parental level of education         lunch  \\\n",
      "0    female        group B           bachelor's degree      standard   \n",
      "1    female        group C                some college      standard   \n",
      "2    female        group B             master's degree      standard   \n",
      "3      male        group A          associate's degree  free/reduced   \n",
      "4      male        group C                some college      standard   \n",
      "..      ...            ...                         ...           ...   \n",
      "995  female        group E             master's degree      standard   \n",
      "996    male        group C                 high school  free/reduced   \n",
      "997  female        group C                 high school  free/reduced   \n",
      "998  female        group D                some college      standard   \n",
      "999  female        group D                some college  free/reduced   \n",
      "\n",
      "    test preparation course  math score  reading score  writing score  \n",
      "0                      none          72             72             74  \n",
      "1                 completed          69             90             88  \n",
      "2                      none          90             95             93  \n",
      "3                      none          47             57             44  \n",
      "4                      none          76             78             75  \n",
      "..                      ...         ...            ...            ...  \n",
      "995               completed          88             99             95  \n",
      "996                    none          62             55             55  \n",
      "997               completed          59             71             65  \n",
      "998               completed          68             78             77  \n",
      "999                    none          77             86             86  \n",
      "\n",
      "[1000 rows x 8 columns]\n"
     ]
    }
   ],
   "source": [
    "print(mydata)"
   ]
  },
  {
   "cell_type": "code",
   "execution_count": 7,
   "metadata": {
    "scrolled": true
   },
   "outputs": [
    {
     "name": "stdout",
     "output_type": "stream",
     "text": [
      "   TOK    UPDATE      DATE   SHOT  TIME AUXHEAT  PHASE  STATE  PGASA  PGASZ  \\\n",
      "0  JET  20031201  20001006  53521  10.0    NBIC  HSELM  TRANS    2.0    1.0   \n",
      "\n",
      "   ...    WFICRH  MEFF  ISEQ        WTH       WTOT      DWTOT          PL  \\\n",
      "0  ...  731900.0   2.0  NONE  3715000.0  5381000.0  1282000.0  12970000.0   \n",
      "\n",
      "         PLTH  TAUTOT   TAUTH  \n",
      "0  12100000.0  0.4445  0.2194  \n",
      "\n",
      "[1 rows x 78 columns]\n"
     ]
    }
   ],
   "source": [
    "mydata= pd.read_csv(\"https://people.sc.fsu.edu/~jburkardt/data/csv/example.csv\")\n",
    "print(mydata)"
   ]
  },
  {
   "cell_type": "code",
   "execution_count": 5,
   "metadata": {},
   "outputs": [
    {
     "name": "stdout",
     "output_type": "stream",
     "text": [
      "    OrderDate   Region       Rep     Item  Units  UnitCost    Total\n",
      "0  2020-01-06     East     Jones   Pencil     95      1.99   189.05\n",
      "1  2020-01-23  Central    Kivell   Binder     50     19.99   999.50\n",
      "2  2020-02-09  Central   Jardine   Pencil     36      4.99   179.64\n",
      "3  2020-02-26  Central      Gill      Pen     27     19.99   539.73\n",
      "4  2020-03-15     West   Sorvino   Pencil     56      2.99   167.44\n",
      "5  2020-04-01     East     Jones   Binder     60      4.99   299.40\n",
      "6  2020-04-18  Central   Andrews   Pencil     75      1.99   149.25\n",
      "7  2020-05-05  Central   Jardine   Pencil     90      4.99   449.10\n",
      "8  2020-05-22     West  Thompson   Pencil     32      1.99    63.68\n",
      "9  2020-06-08     East     Jones   Binder     60      8.99   539.40\n",
      "10 2020-06-25  Central    Morgan   Pencil     90      4.99   449.10\n",
      "11 2020-07-12     East    Howard   Binder     29      1.99    57.71\n",
      "12 2020-07-29     East    Parent   Binder     81     19.99  1619.19\n",
      "13 2020-08-15     East     Jones   Pencil     35      4.99   174.65\n",
      "14 2020-09-01  Central     Smith     Desk      2    125.00   250.00\n",
      "15 2020-09-18     East     Jones  Pen Set     16     15.99   255.84\n",
      "16 2020-10-05  Central    Morgan   Binder     28      8.99   251.72\n",
      "17 2020-10-22     East     Jones      Pen     64      8.99   575.36\n",
      "18 2020-11-08     East    Parent      Pen     15     19.99   299.85\n",
      "19 2020-11-25  Central    Kivell  Pen Set     96      4.99   479.04\n",
      "20 2020-12-12  Central     Smith   Pencil     67      1.29    86.43\n",
      "21 2020-12-29     East    Parent  Pen Set     74     15.99  1183.26\n",
      "22 2021-01-15  Central      Gill   Binder     46      8.99   413.54\n",
      "23 2021-02-01  Central     Smith   Binder     87     15.00  1305.00\n",
      "24 2021-02-18     East     Jones   Binder      4      4.99    19.96\n",
      "25 2021-03-07     West   Sorvino   Binder      7     19.99   139.93\n",
      "26 2021-03-24  Central   Jardine  Pen Set     50      4.99   249.50\n",
      "27 2021-04-10  Central   Andrews   Pencil     66      1.99   131.34\n",
      "28 2021-04-27     East    Howard      Pen     96      4.99   479.04\n",
      "29 2021-05-14  Central      Gill   Pencil     53      1.29    68.37\n",
      "30 2021-05-31  Central      Gill   Binder     80      8.99   719.20\n",
      "31 2021-06-17  Central    Kivell     Desk      5    125.00   625.00\n",
      "32 2021-07-04     East     Jones  Pen Set     62      4.99   309.38\n",
      "33 2021-07-21  Central    Morgan  Pen Set     55     12.49   686.95\n",
      "34 2021-08-07  Central    Kivell  Pen Set     42     23.95  1005.90\n",
      "35 2021-08-24     West   Sorvino     Desk      3    275.00   825.00\n",
      "36 2021-09-10  Central      Gill   Pencil      7      1.29     9.03\n",
      "37 2021-09-27     West   Sorvino      Pen     76      1.99   151.24\n",
      "38 2021-10-14     West  Thompson   Binder     57     19.99  1139.43\n",
      "39 2021-10-31  Central   Andrews   Pencil     14      1.29    18.06\n",
      "40 2021-11-17  Central   Jardine   Binder     11      4.99    54.89\n",
      "41 2021-12-04  Central   Jardine   Binder     94     19.99  1879.06\n",
      "42 2021-12-21  Central   Andrews   Binder     28      4.99   139.72\n"
     ]
    }
   ],
   "source": [
    "#Reading an excel file\n",
    "import pandas as pd\n",
    "tdata = pd.read_excel(\"C:\\\\Users\\\\asus\\\\Downloads\\\\Details.xlsx\")\n",
    "print(tdata)"
   ]
  },
  {
   "cell_type": "code",
   "execution_count": 6,
   "metadata": {},
   "outputs": [
    {
     "name": "stdout",
     "output_type": "stream",
     "text": [
      "   female  group B bachelor's degree  standard none             72  72.1  74\n",
      "0  female  group C      some college  standard       completed  69    90  88\n"
     ]
    }
   ],
   "source": [
    "txtdata = pd.read_table(\"C:\\\\Users\\\\asus\\\\Desktop\\\\new.txt\")\n",
    "print(txtdata)"
   ]
  },
  {
   "cell_type": "code",
   "execution_count": 7,
   "metadata": {},
   "outputs": [
    {
     "name": "stdout",
     "output_type": "stream",
     "text": [
      "   female  group B bachelor's degree  standard none             72  72.1  74\n",
      "0  female  group C      some college  standard       completed  69    90  88\n"
     ]
    }
   ],
   "source": [
    "#another way for reading text file is :\n",
    "#using read_csv command\n",
    "txtdata = pd.read_csv(\"C:\\\\Users\\\\asus\\\\Desktop\\\\new.txt\", sep=\"\\t\")\n",
    "print(txtdata)"
   ]
  },
  {
   "cell_type": "code",
   "execution_count": null,
   "metadata": {},
   "outputs": [],
   "source": []
  }
 ],
 "metadata": {
  "kernelspec": {
   "display_name": "Python 3",
   "language": "python",
   "name": "python3"
  },
  "language_info": {
   "codemirror_mode": {
    "name": "ipython",
    "version": 3
   },
   "file_extension": ".py",
   "mimetype": "text/x-python",
   "name": "python",
   "nbconvert_exporter": "python",
   "pygments_lexer": "ipython3",
   "version": "3.8.5"
  }
 },
 "nbformat": 4,
 "nbformat_minor": 4
}
